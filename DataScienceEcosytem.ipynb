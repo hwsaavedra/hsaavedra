{
 "cells": [
  {
   "cell_type": "markdown",
   "id": "f8666044",
   "metadata": {},
   "source": [
    "# Data Science Tools and Ecosystem"
   ]
  },
  {
   "cell_type": "markdown",
   "id": "10849b56",
   "metadata": {},
   "source": [
    "In this notebook, Data Science Tools and Ecosystem are summarized"
   ]
  },
  {
   "cell_type": "markdown",
   "id": "6acdd8a3",
   "metadata": {},
   "source": [
    "***Objectives:***\n",
    "\n",
    "- Learn Data languages\n",
    "- Learn datat libraries used by Data Scientists\n",
    "- How to create a table in Python\n",
    "- Simple arithmetic equations"
   ]
  },
  {
   "cell_type": "markdown",
   "id": "859e509e",
   "metadata": {},
   "source": [
    "Some of the popular languages that Data Scientist use are:"
   ]
  },
  {
   "cell_type": "markdown",
   "id": "fbc9ec5c",
   "metadata": {},
   "source": [
    "1. Phyton"
   ]
  },
  {
   "cell_type": "markdown",
   "id": "7851c6ee",
   "metadata": {},
   "source": [
    "2. R"
   ]
  },
  {
   "cell_type": "markdown",
   "id": "828540b3",
   "metadata": {},
   "source": [
    "3. Julia"
   ]
  },
  {
   "cell_type": "markdown",
   "id": "6fdff695",
   "metadata": {},
   "source": [
    "Some of the most commonly used libraries used by Data Scientist include:"
   ]
  },
  {
   "cell_type": "markdown",
   "id": "ed22cd0a",
   "metadata": {},
   "source": [
    "- Pandas"
   ]
  },
  {
   "cell_type": "markdown",
   "id": "4466dcb1",
   "metadata": {},
   "source": [
    "- NumPy"
   ]
  },
  {
   "cell_type": "markdown",
   "id": "91745dde",
   "metadata": {},
   "source": [
    "- Matplotlib"
   ]
  },
  {
   "cell_type": "markdown",
   "id": "78523449",
   "metadata": {},
   "source": [
    "   |Data Science Tools|\n",
    "   |------------------|\n",
    "   |RStudio|\n",
    "   |TensorFlow|\n",
    "   |Apache Spark|"
   ]
  },
  {
   "cell_type": "markdown",
   "id": "e3b7303e",
   "metadata": {},
   "source": [
    "### Below are a few examplesof evaluating arithmetic expressions in Phyton "
   ]
  },
  {
   "cell_type": "code",
   "execution_count": 14,
   "id": "62f47ca4",
   "metadata": {},
   "outputs": [
    {
     "data": {
      "text/plain": [
       "17"
      ]
     },
     "execution_count": 14,
     "metadata": {},
     "output_type": "execute_result"
    }
   ],
   "source": [
    "#This an expression to multiply then add integers\n",
    "(3*4)+5"
   ]
  },
  {
   "cell_type": "code",
   "execution_count": 9,
   "id": "ab7ac6fc",
   "metadata": {},
   "outputs": [
    {
     "data": {
      "text/plain": [
       "3.3333333333333335"
      ]
     },
     "execution_count": 9,
     "metadata": {},
     "output_type": "execute_result"
    }
   ],
   "source": [
    "#This will convert 200 minuts to hours by dividing it by 60\n",
    "(200/60)"
   ]
  },
  {
   "cell_type": "markdown",
   "id": "04f60fe2",
   "metadata": {},
   "source": [
    "## Author\n",
    "Henry Saavedra"
   ]
  }
 ],
 "metadata": {
  "kernelspec": {
   "display_name": "Python 3 (ipykernel)",
   "language": "python",
   "name": "python3"
  },
  "language_info": {
   "codemirror_mode": {
    "name": "ipython",
    "version": 3
   },
   "file_extension": ".py",
   "mimetype": "text/x-python",
   "name": "python",
   "nbconvert_exporter": "python",
   "pygments_lexer": "ipython3",
   "version": "3.8.2"
  }
 },
 "nbformat": 4,
 "nbformat_minor": 5
}
